{
 "cells": [
  {
   "cell_type": "markdown",
   "metadata": {
    "cell_id": "0b44180d6dae43ce8a35511435431198",
    "deepnote_cell_type": "markdown"
   },
   "source": [
    "![image info](https://raw.githubusercontent.com/albahnsen/MIAD_ML_and_NLP/main/images/banner_1.png)"
   ]
  },
  {
   "cell_type": "markdown",
   "metadata": {
    "cell_id": "2f27a0bb9c9449da871cc1a7b13729cc",
    "deepnote_cell_type": "markdown"
   },
   "source": [
    "# Taller: Tokenización de textos  \n",
    "\n",
    "En este taller podrán poner en práctica sus conocimientos sobre preprocesamiento de texto (tokenización). El taller está constituido por 5 puntos, en los cuales deberan seguir las intrucciones de cada numeral para su desarrollo."
   ]
  },
  {
   "cell_type": "markdown",
   "metadata": {
    "cell_id": "b791fb6b83414a71817304cddee53983",
    "deepnote_cell_type": "markdown"
   },
   "source": [
    "## Datos detección de toxicidad en comentarios\n",
    "\n",
    "En este taller se usará el conjunto de datos de detección de toxicidad en comentarios de la base de datos de Kaggle. Cada observación es un comentario que tiene como variable objetivo (target) la probabilidad de ser un comentario tóxico. El objetivo es predecir la toxicidad de cada comentario. Para más detalles pueden visitar el siguiente enlace: [datos](https://www.kaggle.com/c/jigsaw-unintended-bias-in-toxicity-classification/data)."
   ]
  },
  {
   "cell_type": "code",
   "execution_count": null,
   "metadata": {},
   "outputs": [],
   "source": []
  },
  {
   "cell_type": "code",
   "execution_count": 4,
   "metadata": {
    "cell_id": "12c2bfda71a6476aa257a43d63ae6937",
    "deepnote_cell_type": "code",
    "execution_context_id": "576abdeb-1159-431f-b36a-fbd3d6e1842c",
    "execution_millis": 4,
    "execution_start": 1745619774057,
    "source_hash": "11735479"
   },
   "outputs": [],
   "source": [
    "# SUGERIDO: Descomenta la siguiente linea de código si requieres instalar las libreías básicas utilizadas en este notebook\n",
    "# Si requieres incluir más librerías puedes agregarlas al archivo Semana 4\\requirements.txt\n",
    "# !pip install -r requirements.txt"
   ]
  },
  {
   "cell_type": "code",
   "execution_count": 5,
   "metadata": {
    "cell_id": "2ca15f7f691f4d61b4dec96f39565426",
    "deepnote_cell_type": "code",
    "execution_context_id": "576abdeb-1159-431f-b36a-fbd3d6e1842c",
    "execution_millis": 2,
    "execution_start": 1745619774126,
    "source_hash": "17e3dbca"
   },
   "outputs": [],
   "source": [
    "import warnings\n",
    "warnings.filterwarnings('ignore')"
   ]
  },
  {
   "cell_type": "code",
   "execution_count": 6,
   "metadata": {
    "cell_id": "4797c116278b4549aab0cd84b5daa9e0",
    "deepnote_cell_type": "code",
    "execution_context_id": "576abdeb-1159-431f-b36a-fbd3d6e1842c",
    "execution_millis": 3325,
    "execution_start": 1745619774183,
    "source_hash": "2b84ae70"
   },
   "outputs": [],
   "source": [
    "# Importación librerías\n",
    "import pandas as pd\n",
    "import numpy as np\n",
    "import scipy as sp\n",
    "from sklearn.model_selection import train_test_split, cross_val_score\n",
    "from sklearn.feature_extraction.text import CountVectorizer, TfidfVectorizer\n",
    "from sklearn import metrics\n",
    "import matplotlib.pyplot as plt\n",
    "%matplotlib inline"
   ]
  },
  {
   "cell_type": "code",
   "execution_count": 7,
   "metadata": {
    "cell_id": "bd4e2d60a81842618c4256f6b069b623",
    "deepnote_cell_type": "code",
    "execution_context_id": "576abdeb-1159-431f-b36a-fbd3d6e1842c",
    "execution_millis": 7387,
    "execution_start": 1745619777564,
    "source_hash": "4bf033f"
   },
   "outputs": [
    {
     "data": {
      "text/html": [
       "<div>\n",
       "<style scoped>\n",
       "    .dataframe tbody tr th:only-of-type {\n",
       "        vertical-align: middle;\n",
       "    }\n",
       "\n",
       "    .dataframe tbody tr th {\n",
       "        vertical-align: top;\n",
       "    }\n",
       "\n",
       "    .dataframe thead th {\n",
       "        text-align: right;\n",
       "    }\n",
       "</style>\n",
       "<table border=\"1\" class=\"dataframe\">\n",
       "  <thead>\n",
       "    <tr style=\"text-align: right;\">\n",
       "      <th></th>\n",
       "      <th>id</th>\n",
       "      <th>comment_text</th>\n",
       "      <th>target</th>\n",
       "    </tr>\n",
       "  </thead>\n",
       "  <tbody>\n",
       "    <tr>\n",
       "      <th>0</th>\n",
       "      <td>6101457</td>\n",
       "      <td>What are you talking about? What group do Pete...</td>\n",
       "      <td>0.0</td>\n",
       "    </tr>\n",
       "    <tr>\n",
       "      <th>1</th>\n",
       "      <td>5342103</td>\n",
       "      <td>NO!, Let him, we need a Conservative government.</td>\n",
       "      <td>0.0</td>\n",
       "    </tr>\n",
       "    <tr>\n",
       "      <th>2</th>\n",
       "      <td>743361</td>\n",
       "      <td>Perhaps he took the \"power out of the Cardinal...</td>\n",
       "      <td>0.2</td>\n",
       "    </tr>\n",
       "    <tr>\n",
       "      <th>3</th>\n",
       "      <td>551008</td>\n",
       "      <td>As always, yours is dripping with sarcasm, whi...</td>\n",
       "      <td>0.0</td>\n",
       "    </tr>\n",
       "    <tr>\n",
       "      <th>4</th>\n",
       "      <td>865998</td>\n",
       "      <td>The dirty little secret is that the price rang...</td>\n",
       "      <td>0.3</td>\n",
       "    </tr>\n",
       "  </tbody>\n",
       "</table>\n",
       "</div>"
      ],
      "text/plain": [
       "        id                                       comment_text  target\n",
       "0  6101457  What are you talking about? What group do Pete...     0.0\n",
       "1  5342103   NO!, Let him, we need a Conservative government.     0.0\n",
       "2   743361  Perhaps he took the \"power out of the Cardinal...     0.2\n",
       "3   551008  As always, yours is dripping with sarcasm, whi...     0.0\n",
       "4   865998  The dirty little secret is that the price rang...     0.3"
      ]
     },
     "execution_count": 7,
     "metadata": {},
     "output_type": "execute_result"
    }
   ],
   "source": [
    "# Carga de datos de archivos .csv\n",
    "df = pd.read_csv('https://raw.githubusercontent.com/davidzarruk/MIAD_ML_NLP_2025/main/datasets/Toxicity.zip')\n",
    "df = df[['id','comment_text', 'target']]\n",
    "df.head()"
   ]
  },
  {
   "cell_type": "code",
   "execution_count": 8,
   "metadata": {
    "cell_id": "8e57cb6ffbb64551aea5125aab373b9b",
    "deepnote_cell_type": "code",
    "execution_context_id": "576abdeb-1159-431f-b36a-fbd3d6e1842c",
    "execution_millis": 1,
    "execution_start": 1745619785003,
    "source_hash": "14f60b8f"
   },
   "outputs": [
    {
     "data": {
      "text/plain": [
       "(541462, 3)"
      ]
     },
     "execution_count": 8,
     "metadata": {},
     "output_type": "execute_result"
    }
   ],
   "source": [
    "df.shape"
   ]
  },
  {
   "cell_type": "code",
   "execution_count": 9,
   "metadata": {
    "cell_id": "8dbfbbc0196744d2a6d3a2b807e53e3b",
    "deepnote_cell_type": "code",
    "execution_context_id": "576abdeb-1159-431f-b36a-fbd3d6e1842c",
    "execution_start": 1745619785053,
    "source_hash": "b720c9d1"
   },
   "outputs": [
    {
     "data": {
      "text/plain": [
       "<Axes: >"
      ]
     },
     "execution_count": 9,
     "metadata": {},
     "output_type": "execute_result"
    }
   ],
   "source": [
    "# Impresión histograma de variable de interés (y)\n",
    "df.target.hist()"
   ]
  },
  {
   "cell_type": "code",
   "execution_count": 10,
   "metadata": {
    "cell_id": "0882b1c1505c45ebb3d06c8f1f1f1050",
    "deepnote_cell_type": "code",
    "execution_context_id": "576abdeb-1159-431f-b36a-fbd3d6e1842c",
    "execution_millis": 12,
    "execution_start": 1745619785292,
    "source_hash": "df513b18"
   },
   "outputs": [
    {
     "data": {
      "text/plain": [
       "count    541462.000000\n",
       "mean          0.102991\n",
       "std           0.196979\n",
       "min           0.000000\n",
       "25%           0.000000\n",
       "50%           0.000000\n",
       "75%           0.166667\n",
       "max           1.000000\n",
       "Name: target, dtype: float64"
      ]
     },
     "execution_count": 10,
     "metadata": {},
     "output_type": "execute_result"
    }
   ],
   "source": [
    "# Separación de variable de interés (y)\n",
    "y = df.target\n",
    "y.describe()"
   ]
  },
  {
   "cell_type": "code",
   "execution_count": 11,
   "metadata": {
    "cell_id": "f41a2f49cb824b78acbccfd9bb3a3edc",
    "deepnote_cell_type": "code",
    "execution_context_id": "576abdeb-1159-431f-b36a-fbd3d6e1842c",
    "execution_millis": 1,
    "execution_start": 1745619785353,
    "source_hash": "5aeff20c"
   },
   "outputs": [],
   "source": [
    "# Separación de variables predictoras (X), solo se considera el texto de la noticia\n",
    "X = df.comment_text"
   ]
  },
  {
   "cell_type": "code",
   "execution_count": 12,
   "metadata": {
    "cell_id": "38011f9409f842028b1d8c9683886773",
    "deepnote_cell_type": "code",
    "execution_context_id": "576abdeb-1159-431f-b36a-fbd3d6e1842c",
    "execution_millis": 24,
    "execution_start": 1745619785405,
    "source_hash": "4dd8a522"
   },
   "outputs": [],
   "source": [
    "# Separación de datos en set de entrenamiento y test\n",
    "X_train, X_test, y_train, y_test = train_test_split(X, y, test_size=0.33, random_state=42)"
   ]
  },
  {
   "cell_type": "markdown",
   "metadata": {
    "cell_id": "e99dffea9c344dd69133443881235a15",
    "deepnote_cell_type": "markdown"
   },
   "source": [
    "## Punto 1 - Tokenización con CountVectorizer\n",
    "\n",
    "En la celda 1 creen y entrenen el modelo de regresión de su preferencia, para que prediga la probabilidad de que un comentario sea tóxico, usando los set de entrenamiento y test definidos anteriormente. Usen la función **CountVectorizer** para preprocesar los comentarios y presenten el desempeño del modelo con la métrica del MSE.\n",
    "\n",
    "Recuerden que el preprocesamiento que se haga sobre los datos de entrenamiento  (*.fit_transform()*) deben ser aplicado al set de test (*.transform()*)."
   ]
  },
  {
   "cell_type": "code",
   "execution_count": 14,
   "metadata": {
    "cell_id": "66b087560d944f5ab7222fb4653ff3f0",
    "deepnote_cell_type": "code",
    "execution_context_id": "576abdeb-1159-431f-b36a-fbd3d6e1842c",
    "execution_millis": 108,
    "execution_start": 1745619785484,
    "source_hash": "49a66f37"
   },
   "outputs": [],
   "source": [
    "# Celda 1\n",
    "from sklearn.ensemble import RandomForestRegressor\n",
    "from sklearn.metrics import mean_squared_error\n",
    "from sklearn.model_selection import train_test_split\n",
    "import xgboost as xgb"
   ]
  },
  {
   "cell_type": "code",
   "execution_count": 15,
   "metadata": {
    "cell_id": "9c8f8d3a2509420bbc4f12e55b7c75a6",
    "deepnote_cell_type": "code",
    "execution_context_id": "576abdeb-1159-431f-b36a-fbd3d6e1842c",
    "execution_millis": 512078,
    "execution_start": 1745619785684,
    "source_hash": "3512396a"
   },
   "outputs": [
    {
     "name": "stdout",
     "output_type": "stream",
     "text": [
      "MSE con XGBRegressor en GPU: 0.0410\n"
     ]
    }
   ],
   "source": [
    "# Crear matriz de vectores\n",
    "vectorizer = CountVectorizer(stop_words='english', lowercase=True, max_features=200)\n",
    "\n",
    "# Entrenamiento de X Train y Test\n",
    "X_train_vec = vectorizer.fit_transform(X_train)\n",
    "X_test_vec = vectorizer.transform(X_test)\n",
    "\n",
    "# Creación y entrenamiento del modelo usando XGBRegressor\n",
    "xgb_model = xgb.XGBRegressor(\n",
    "    objective='reg:squarederror',\n",
    "    tree_method='gpu_hist',    # Activar uso de GPU\n",
    "    predictor='gpu_predictor',\n",
    "    n_estimators=20,\n",
    "    random_state=42,\n",
    ")\n",
    "\n",
    "# Entrenamiento\n",
    "xgb_model.fit(X_train_vec, y_train)\n",
    "\n",
    "# Predicciones\n",
    "y_pred_xgb = xgb_model.predict(X_test_vec)\n",
    "\n",
    "# Evaluación\n",
    "mse_CV = mean_squared_error(y_test, y_pred_xgb)\n",
    "print(f\"MSE con XGBRegressor en GPU: {mse_CV:.4f}\")"
   ]
  },
  {
   "cell_type": "markdown",
   "metadata": {
    "cell_id": "cef14b9a92f143babfae52a129c333cb",
    "deepnote_cell_type": "markdown"
   },
   "source": [
    "## Punto 2 - Tokenización con CountVectorizer y trigramas\n",
    "\n",
    "En la celda 2 creen y entrenen el mismo modelo de regresión del punto anterior (es decir si usaron un RandomForestRegresor usen nuevamente ese regresor), para que prediga la probabilidad de que un comentario sea tóxico, usando los set de entrenamiento y test definidos anteriormente. Usen la función CountVectorizer **considerando trigramas** para preprocesar los comentarios y presenten el desempeño del modelo con la métrica del MSE.\n",
    "\n",
    "Recuerden que el preprocesamiento que se haga sobre los datos de entrenamiento  (*.fit_transform()*) deben ser aplicado al set de test (*.transform()*)."
   ]
  },
  {
   "cell_type": "code",
   "execution_count": 17,
   "metadata": {
    "cell_id": "f07e9e8014214263abfa2d6d4e23a26e",
    "deepnote_cell_type": "code"
   },
   "outputs": [
    {
     "name": "stdout",
     "output_type": "stream",
     "text": [
      "MSE con XGBRegressor en GPU usando trigramas: 0.0390\n"
     ]
    }
   ],
   "source": [
    "# Crear matriz de vectores usando trigramas\n",
    "vectorizer_tri = CountVectorizer(stop_words='english', lowercase=True, max_features=200, ngram_range=(3, 3))\n",
    "\n",
    "# Entrenamiento de X Train y Test\n",
    "X_train_vec_tri = vectorizer_tri.fit_transform(X_train)\n",
    "X_test_vec_tri = vectorizer_tri.transform(X_test)\n",
    "\n",
    "# Creación y entrenamiento del modelo usando XGBRegressor\n",
    "xgb_model_tri = xgb.XGBRegressor(\n",
    "    objective='reg:squarederror',\n",
    "    tree_method='gpu_hist',    # Activar uso de GPU\n",
    "    predictor='gpu_predictor',\n",
    "    n_estimators=20,\n",
    "    random_state=42,\n",
    ")\n",
    "\n",
    "# Entrenamiento\n",
    "xgb_model_tri.fit(X_train_vec_tri, y_train)\n",
    "\n",
    "# Predicciones\n",
    "y_pred_xgb_tri = xgb_model_tri.predict(X_test_vec_tri)\n",
    "\n",
    "# Evaluación\n",
    "mse_tri = mean_squared_error(y_test, y_pred_xgb_tri)\n",
    "print(f\"MSE con XGBRegressor en GPU usando trigramas: {mse_tri:.4f}\")"
   ]
  },
  {
   "cell_type": "markdown",
   "metadata": {
    "cell_id": "25feb6cb283b460dbdf80b87cb985394",
    "deepnote_cell_type": "markdown"
   },
   "source": [
    "## Punto 3 - TfidfVectorizer\n",
    "\n",
    "Investigen sobre la función TfidfVectorizer. En la celda de texto 3, expliquen en qué consiste esta técnica de tokenización (describanla y expliquen su funcionamiento) y cúales son las ventajas o deventajas de su uso al compararlo con la función CountVectorizer."
   ]
  },
  {
   "cell_type": "markdown",
   "metadata": {
    "cell_id": "d1c00cbf98ef47408330ff3b3761807e",
    "deepnote_app_block_visible": false,
    "deepnote_cell_type": "markdown"
   },
   "source": [
    "# Celda 3\n",
    "\n",
    "TfidfVectorizer es una técnica de tokenización y vectorización del texto. Su nombre indica TF (Term Frequency, frecuencia de una palabra en un documento) y IDF (Inverse Document Frequency, qué tan rara es esa palabra en el conjunto total de documentos, o la frecuencia inversa). Esta técnica convierte un conjunto de documentos (por ejemplo, comentarios) en una matriz numérica, ponderando las palabras según su importancia relativa en cada documento.\n",
    "\n",
    "Funciona de la siguiente manera: \n",
    "1. Tokeniza el texto (puede usar n-gramas, eliminar stopwords, etc.).\n",
    "2. Cuenta las palabras en cada documento (como CountVectorizer).\n",
    "3. Calcula el TF-IDF con la fórmula correspondiente, la cual garantiza que las palabras frecuentes y que aportan poca información tengan menor peso, mientras que las palabras poco frecuentas tengan un peso mayor.\n",
    "\n",
    "En cuanto a ventajas de TfidfVectorizer, comparada con CountVectorizer, TfidfVectorizer tiene un enfoque más semántico, debido a la ponderación al momento de vectorizar las palabras, asimismo evita que las palabras comunes dominen el modelo. Esto sugiere que TfidfVectorizer puede ser usado para modelos más complejos que CountVectorizer.\n",
    "\n",
    "Por otro lado, dentro de las desventajas de usar TfidfVectorizer se encuentra su costo computacional mayor, comparado con el de CountVectorizer y que puede perder efectividad al contar con documentos muy cortos para el análisis, ya que en ese caso la IDF no contará con suficiente información para calcular bien."
   ]
  },
  {
   "cell_type": "markdown",
   "metadata": {
    "cell_id": "cda9cba20fe34c908b9222407bc8076b",
    "deepnote_cell_type": "markdown"
   },
   "source": [
    "## Punto 4 - Tokenización con TfidfVectorizer\n",
    "\n",
    "En la celda 4 creen y entrenen el mismo modelo de regresión del primer punto, para que prediga la probabilidad de que un comentario sea tóxico, usando los set de entrenamiento y test definidos anteriormente. Procesen los comentarios con la función **TfidfVectorizer** y presenten el desempeño del modelo con la métrica del MSE.\n",
    "\n",
    "Recuerden que el preprocesamiento que se haga sobre los datos de entrenamiento  (*.fit_transform()*) deben ser aplicado al set de test (*.transform()*)."
   ]
  },
  {
   "cell_type": "code",
   "execution_count": 21,
   "metadata": {
    "cell_id": "ecd2aee2f4d04b55bc5bd13584be585a",
    "deepnote_cell_type": "code"
   },
   "outputs": [
    {
     "name": "stdout",
     "output_type": "stream",
     "text": [
      "MSE con XGBRegressor en GPU usando TfidfVectorizer: 0.0391\n"
     ]
    }
   ],
   "source": [
    "# Crear matriz de vectores usando TfidfVectorizer\n",
    "vectorizer_tfidf = TfidfVectorizer(stop_words='english', lowercase=True, max_features=200)\n",
    "\n",
    "# Entrenamiento de X Train y Test\n",
    "X_train_vec_tfidf = vectorizer_tfidf.fit_transform(X_train)\n",
    "X_test_vec_tfidf = vectorizer_tfidf.transform(X_test)\n",
    "\n",
    "# Creación y entrenamiento del modelo usando XGBRegressor\n",
    "xgb_model_tfidf = xgb.XGBRegressor(\n",
    "    objective='reg:squarederror',\n",
    "    tree_method='gpu_hist',    # Activar uso de GPU\n",
    "    predictor='gpu_predictor',\n",
    "    n_estimators=20,\n",
    "    random_state=42,\n",
    ")\n",
    "\n",
    "# Entrenamiento\n",
    "xgb_model_tfidf.fit(X_train_vec_tfidf, y_train)\n",
    "\n",
    "# Predicciones\n",
    "y_pred_xgb_tfidf = xgb_model_tfidf.predict(X_test_vec_tfidf)\n",
    "\n",
    "# Evaluación\n",
    "mse_tfidf = mean_squared_error(y_test, y_pred_xgb_tfidf)\n",
    "print(f\"MSE con XGBRegressor en GPU usando TfidfVectorizer: {mse_tfidf:.4f}\")"
   ]
  },
  {
   "cell_type": "markdown",
   "metadata": {
    "cell_id": "fd60e6b533d14ddc915618e5e3de71cc",
    "deepnote_cell_type": "markdown"
   },
   "source": [
    "## Punto 5 - Comparación y análisis de resultados\n",
    "\n",
    "En la celda 5 comparen los resultados obtenidos de los diferentes modelos y comenten cómo el preprocesamiento de texto afecta el desempeño."
   ]
  },
  {
   "cell_type": "code",
   "execution_count": 23,
   "metadata": {
    "cell_id": "209fae050ccd41fdabb9b4a59d540c95",
    "deepnote_cell_type": "code"
   },
   "outputs": [
    {
     "name": "stdout",
     "output_type": "stream",
     "text": [
      "Comparación de MSE entre métodos de preprocesamiento:\n"
     ]
    },
    {
     "data": {
      "text/html": [
       "<div>\n",
       "<style scoped>\n",
       "    .dataframe tbody tr th:only-of-type {\n",
       "        vertical-align: middle;\n",
       "    }\n",
       "\n",
       "    .dataframe tbody tr th {\n",
       "        vertical-align: top;\n",
       "    }\n",
       "\n",
       "    .dataframe thead th {\n",
       "        text-align: right;\n",
       "    }\n",
       "</style>\n",
       "<table border=\"1\" class=\"dataframe\">\n",
       "  <thead>\n",
       "    <tr style=\"text-align: right;\">\n",
       "      <th></th>\n",
       "      <th>Método</th>\n",
       "      <th>MSE</th>\n",
       "    </tr>\n",
       "  </thead>\n",
       "  <tbody>\n",
       "    <tr>\n",
       "      <th>0</th>\n",
       "      <td>CountVectorizer (unigramas)</td>\n",
       "      <td>0.041046</td>\n",
       "    </tr>\n",
       "    <tr>\n",
       "      <th>1</th>\n",
       "      <td>CountVectorizer (trigramas)</td>\n",
       "      <td>0.039001</td>\n",
       "    </tr>\n",
       "    <tr>\n",
       "      <th>2</th>\n",
       "      <td>TfidfVectorizer (unigramas)</td>\n",
       "      <td>0.039127</td>\n",
       "    </tr>\n",
       "  </tbody>\n",
       "</table>\n",
       "</div>"
      ],
      "text/plain": [
       "                        Método       MSE\n",
       "0  CountVectorizer (unigramas)  0.041046\n",
       "1  CountVectorizer (trigramas)  0.039001\n",
       "2  TfidfVectorizer (unigramas)  0.039127"
      ]
     },
     "metadata": {},
     "output_type": "display_data"
    },
    {
     "data": {
      "text/plain": [
       "<Figure size 640x480 with 0 Axes>"
      ]
     },
     "metadata": {},
     "output_type": "display_data"
    },
    {
     "data": {
      "image/png": "[encoded data removed]",
      "text/plain": [
       "<Figure size 800x500 with 1 Axes>"
      ]
     },
     "metadata": {},
     "output_type": "display_data"
    }
   ],
   "source": [
    "# Celda 5 Código para graficos y tablas comparativas\n",
    "\n",
    "mse_results = pd.DataFrame({\n",
    "    'Método': ['CountVectorizer (unigramas)', 'CountVectorizer (trigramas)', 'TfidfVectorizer (unigramas)'],\n",
    "    'MSE': [mse_CV, mse_tri, mse_tfidf]\n",
    "})\n",
    "\n",
    "# Mostrar tabla\n",
    "print(\"Comparación de MSE entre métodos de preprocesamiento:\")\n",
    "display(mse_results)\n",
    "\n",
    "# Gráfico de barras\n",
    "plt.clf()\n",
    "plt.figure(figsize=(8,5))\n",
    "plt.bar(mse_results['Método'], mse_results['MSE'])\n",
    "plt.ylabel('MSE')\n",
    "plt.title('Comparación de MSE por técnica de preprocesamiento')\n",
    "plt.xticks(rotation=30, ha='right')\n",
    "plt.show()\n"
   ]
  },
  {
   "cell_type": "markdown",
   "metadata": {
    "cell_id": "84a1b47e8d66453ba36b67af80c0e994",
    "deepnote_cell_type": "code"
   },
   "source": [
    "### Punto 5.1 - Comparación y análisis de resultados\n",
    "\n",
    "Tras entrenar el mismo modelo de regresión utilizando tres técnicas distintas de preprocesamiento de texto, se observaron diferencias leves en el desempeño medido con la métrica de MSE (Mean Squared Error).\n",
    "\n",
    "El enfoque con CountVectorizer usando unigramas obtuvo el MSE más alto (0.0410), indicando un desempeño ligeramente inferior.\n",
    "\n",
    "Al incorporar trigramas en el CountVectorizer, el modelo mejoró su desempeño (MSE: 0.0390), lo que sugiere que la información adicional capturada por secuencias de tres palabras aporta valor predictivo.\n",
    "\n",
    "Por su parte, TfidfVectorizer (con unigramas) también mejoró frente al enfoque base, obteniendo un MSE de 0.0391, muy cercano al de trigramas.\n",
    "\n",
    "En conclusión, el preprocesamiento con trigramas y TF-IDF permitió mejorar el desempeño del modelo en comparación con la tokenización básica por palabras individuales. Esto demuestra cómo la calidad y profundidad de la representación textual puede influir directamente en los resultados de un modelo de machine learning. Sin embargo, las diferencias fueron relativamente pequeñas, por lo que el mejor método podría depender del contexto y recursos computacionales disponibles."
   ]
  }
 ],
 "metadata": {
  "deepnote_notebook_id": "c5c2db292d18404e90d108af9b0f9c5e",
  "kernelspec": {
   "display_name": "Python [conda env:base] *",
   "language": "python",
   "name": "conda-base-py"
  },
  "language_info": {
   "codemirror_mode": {
    "name": "ipython",
    "version": 3
   },
   "file_extension": ".py",
   "mimetype": "text/x-python",
   "name": "python",
   "nbconvert_exporter": "python",
   "pygments_lexer": "ipython3",
   "version": "3.12.7"
  }
 },
 "nbformat": 4,
 "nbformat_minor": 4
}
